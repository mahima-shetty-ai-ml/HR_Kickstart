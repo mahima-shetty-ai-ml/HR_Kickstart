{
 "cells": [
  {
   "cell_type": "code",
   "execution_count": 16,
   "id": "intelligent-script",
   "metadata": {},
   "outputs": [],
   "source": [
    "import pandas as pd\n",
    "import numpy as np\n",
    "import matplotlib.pyplot as plt"
   ]
  },
  {
   "cell_type": "code",
   "execution_count": 17,
   "id": "satisfied-convenience",
   "metadata": {},
   "outputs": [],
   "source": [
    "train_data = pd.read_csv(\"hr_train.csv\")"
   ]
  },
  {
   "cell_type": "code",
   "execution_count": 18,
   "id": "bored-celtic",
   "metadata": {},
   "outputs": [
    {
     "data": {
      "text/plain": [
       "satisfaction_level       0\n",
       "last_evaluation          0\n",
       "number_project           0\n",
       "average_montly_hours     0\n",
       "time_spend_company       0\n",
       "Work_accident            0\n",
       "left                     0\n",
       "promotion_last_5years    0\n",
       "sales                    0\n",
       "salary                   0\n",
       "dtype: int64"
      ]
     },
     "execution_count": 18,
     "metadata": {},
     "output_type": "execute_result"
    }
   ],
   "source": [
    "train_data.head()\n",
    "train_data.isnull().sum()"
   ]
  },
  {
   "cell_type": "code",
   "execution_count": 19,
   "id": "adjustable-boutique",
   "metadata": {},
   "outputs": [
    {
     "data": {
      "text/plain": [
       "satisfaction_level       float64\n",
       "last_evaluation          float64\n",
       "number_project             int64\n",
       "average_montly_hours       int64\n",
       "time_spend_company         int64\n",
       "Work_accident              int64\n",
       "left                       int64\n",
       "promotion_last_5years      int64\n",
       "sales                     object\n",
       "salary                    object\n",
       "dtype: object"
      ]
     },
     "execution_count": 19,
     "metadata": {},
     "output_type": "execute_result"
    }
   ],
   "source": [
    "train_data.dtypes"
   ]
  },
  {
   "cell_type": "code",
   "execution_count": 20,
   "id": "worth-belly",
   "metadata": {},
   "outputs": [],
   "source": [
    "train_data = train_data.drop(['sales'], axis = 1)"
   ]
  },
  {
   "cell_type": "code",
   "execution_count": 21,
   "id": "handed-freedom",
   "metadata": {},
   "outputs": [],
   "source": [
    "train_data.loc[train_data['salary'] == \"high\", 'salary_label'] = int(2)\n",
    "train_data.loc[train_data['salary'] == \"medium\", 'salary_label'] = int(1)\n",
    "train_data.loc[train_data['salary'] == \"low\", 'salary_label'] = int(0)"
   ]
  },
  {
   "cell_type": "code",
   "execution_count": 22,
   "id": "opening-cinema",
   "metadata": {},
   "outputs": [],
   "source": [
    "y_train = train_data['left']\n",
    "x_train = train_data.drop(['left'], axis = 1)"
   ]
  },
  {
   "cell_type": "code",
   "execution_count": 23,
   "id": "convenient-blackberry",
   "metadata": {},
   "outputs": [
    {
     "data": {
      "text/html": [
       "<div>\n",
       "<style scoped>\n",
       "    .dataframe tbody tr th:only-of-type {\n",
       "        vertical-align: middle;\n",
       "    }\n",
       "\n",
       "    .dataframe tbody tr th {\n",
       "        vertical-align: top;\n",
       "    }\n",
       "\n",
       "    .dataframe thead th {\n",
       "        text-align: right;\n",
       "    }\n",
       "</style>\n",
       "<table border=\"1\" class=\"dataframe\">\n",
       "  <thead>\n",
       "    <tr style=\"text-align: right;\">\n",
       "      <th></th>\n",
       "      <th>satisfaction_level</th>\n",
       "      <th>last_evaluation</th>\n",
       "      <th>number_project</th>\n",
       "      <th>average_montly_hours</th>\n",
       "      <th>time_spend_company</th>\n",
       "      <th>Work_accident</th>\n",
       "      <th>promotion_last_5years</th>\n",
       "      <th>salary</th>\n",
       "      <th>salary_label</th>\n",
       "    </tr>\n",
       "  </thead>\n",
       "  <tbody>\n",
       "    <tr>\n",
       "      <th>0</th>\n",
       "      <td>0.42</td>\n",
       "      <td>0.46</td>\n",
       "      <td>2</td>\n",
       "      <td>150</td>\n",
       "      <td>3</td>\n",
       "      <td>0</td>\n",
       "      <td>0</td>\n",
       "      <td>medium</td>\n",
       "      <td>1.0</td>\n",
       "    </tr>\n",
       "    <tr>\n",
       "      <th>1</th>\n",
       "      <td>0.66</td>\n",
       "      <td>0.77</td>\n",
       "      <td>2</td>\n",
       "      <td>171</td>\n",
       "      <td>2</td>\n",
       "      <td>0</td>\n",
       "      <td>0</td>\n",
       "      <td>medium</td>\n",
       "      <td>1.0</td>\n",
       "    </tr>\n",
       "    <tr>\n",
       "      <th>2</th>\n",
       "      <td>0.55</td>\n",
       "      <td>0.49</td>\n",
       "      <td>5</td>\n",
       "      <td>240</td>\n",
       "      <td>3</td>\n",
       "      <td>0</td>\n",
       "      <td>0</td>\n",
       "      <td>high</td>\n",
       "      <td>2.0</td>\n",
       "    </tr>\n",
       "    <tr>\n",
       "      <th>3</th>\n",
       "      <td>0.22</td>\n",
       "      <td>0.88</td>\n",
       "      <td>4</td>\n",
       "      <td>213</td>\n",
       "      <td>3</td>\n",
       "      <td>1</td>\n",
       "      <td>0</td>\n",
       "      <td>medium</td>\n",
       "      <td>1.0</td>\n",
       "    </tr>\n",
       "    <tr>\n",
       "      <th>4</th>\n",
       "      <td>0.20</td>\n",
       "      <td>0.72</td>\n",
       "      <td>6</td>\n",
       "      <td>224</td>\n",
       "      <td>4</td>\n",
       "      <td>0</td>\n",
       "      <td>0</td>\n",
       "      <td>medium</td>\n",
       "      <td>1.0</td>\n",
       "    </tr>\n",
       "    <tr>\n",
       "      <th>...</th>\n",
       "      <td>...</td>\n",
       "      <td>...</td>\n",
       "      <td>...</td>\n",
       "      <td>...</td>\n",
       "      <td>...</td>\n",
       "      <td>...</td>\n",
       "      <td>...</td>\n",
       "      <td>...</td>\n",
       "      <td>...</td>\n",
       "    </tr>\n",
       "    <tr>\n",
       "      <th>10494</th>\n",
       "      <td>0.82</td>\n",
       "      <td>0.84</td>\n",
       "      <td>3</td>\n",
       "      <td>237</td>\n",
       "      <td>2</td>\n",
       "      <td>0</td>\n",
       "      <td>0</td>\n",
       "      <td>low</td>\n",
       "      <td>0.0</td>\n",
       "    </tr>\n",
       "    <tr>\n",
       "      <th>10495</th>\n",
       "      <td>0.85</td>\n",
       "      <td>0.81</td>\n",
       "      <td>3</td>\n",
       "      <td>205</td>\n",
       "      <td>3</td>\n",
       "      <td>0</td>\n",
       "      <td>0</td>\n",
       "      <td>high</td>\n",
       "      <td>2.0</td>\n",
       "    </tr>\n",
       "    <tr>\n",
       "      <th>10496</th>\n",
       "      <td>0.32</td>\n",
       "      <td>0.95</td>\n",
       "      <td>5</td>\n",
       "      <td>172</td>\n",
       "      <td>2</td>\n",
       "      <td>0</td>\n",
       "      <td>0</td>\n",
       "      <td>low</td>\n",
       "      <td>0.0</td>\n",
       "    </tr>\n",
       "    <tr>\n",
       "      <th>10497</th>\n",
       "      <td>0.51</td>\n",
       "      <td>0.76</td>\n",
       "      <td>4</td>\n",
       "      <td>140</td>\n",
       "      <td>3</td>\n",
       "      <td>0</td>\n",
       "      <td>0</td>\n",
       "      <td>low</td>\n",
       "      <td>0.0</td>\n",
       "    </tr>\n",
       "    <tr>\n",
       "      <th>10498</th>\n",
       "      <td>0.80</td>\n",
       "      <td>0.68</td>\n",
       "      <td>4</td>\n",
       "      <td>199</td>\n",
       "      <td>2</td>\n",
       "      <td>0</td>\n",
       "      <td>0</td>\n",
       "      <td>medium</td>\n",
       "      <td>1.0</td>\n",
       "    </tr>\n",
       "  </tbody>\n",
       "</table>\n",
       "<p>10499 rows × 9 columns</p>\n",
       "</div>"
      ],
      "text/plain": [
       "       satisfaction_level  last_evaluation  number_project  \\\n",
       "0                    0.42             0.46               2   \n",
       "1                    0.66             0.77               2   \n",
       "2                    0.55             0.49               5   \n",
       "3                    0.22             0.88               4   \n",
       "4                    0.20             0.72               6   \n",
       "...                   ...              ...             ...   \n",
       "10494                0.82             0.84               3   \n",
       "10495                0.85             0.81               3   \n",
       "10496                0.32             0.95               5   \n",
       "10497                0.51             0.76               4   \n",
       "10498                0.80             0.68               4   \n",
       "\n",
       "       average_montly_hours  time_spend_company  Work_accident  \\\n",
       "0                       150                   3              0   \n",
       "1                       171                   2              0   \n",
       "2                       240                   3              0   \n",
       "3                       213                   3              1   \n",
       "4                       224                   4              0   \n",
       "...                     ...                 ...            ...   \n",
       "10494                   237                   2              0   \n",
       "10495                   205                   3              0   \n",
       "10496                   172                   2              0   \n",
       "10497                   140                   3              0   \n",
       "10498                   199                   2              0   \n",
       "\n",
       "       promotion_last_5years  salary  salary_label  \n",
       "0                          0  medium           1.0  \n",
       "1                          0  medium           1.0  \n",
       "2                          0    high           2.0  \n",
       "3                          0  medium           1.0  \n",
       "4                          0  medium           1.0  \n",
       "...                      ...     ...           ...  \n",
       "10494                      0     low           0.0  \n",
       "10495                      0    high           2.0  \n",
       "10496                      0     low           0.0  \n",
       "10497                      0     low           0.0  \n",
       "10498                      0  medium           1.0  \n",
       "\n",
       "[10499 rows x 9 columns]"
      ]
     },
     "execution_count": 23,
     "metadata": {},
     "output_type": "execute_result"
    }
   ],
   "source": [
    "x_train"
   ]
  },
  {
   "cell_type": "code",
   "execution_count": 24,
   "id": "guilty-petersburg",
   "metadata": {},
   "outputs": [
    {
     "data": {
      "text/plain": [
       "0        1\n",
       "1        0\n",
       "2        0\n",
       "3        0\n",
       "4        1\n",
       "        ..\n",
       "10494    0\n",
       "10495    0\n",
       "10496    1\n",
       "10497    1\n",
       "10498    0\n",
       "Name: left, Length: 10499, dtype: int64"
      ]
     },
     "execution_count": 24,
     "metadata": {},
     "output_type": "execute_result"
    }
   ],
   "source": [
    "y_train"
   ]
  },
  {
   "cell_type": "code",
   "execution_count": 25,
   "id": "imposed-attitude",
   "metadata": {},
   "outputs": [],
   "source": [
    "x_train = x_train.drop(['salary'], axis = 1)"
   ]
  },
  {
   "cell_type": "code",
   "execution_count": 26,
   "id": "overall-protocol",
   "metadata": {},
   "outputs": [],
   "source": [
    "from sklearn.model_selection import train_test_split"
   ]
  },
  {
   "cell_type": "code",
   "execution_count": 27,
   "id": "accurate-amsterdam",
   "metadata": {},
   "outputs": [],
   "source": [
    "Xtrain, Xval, Ytrain, Yval = train_test_split(x_train, y_train, test_size=0.25, random_state=1)"
   ]
  },
  {
   "cell_type": "code",
   "execution_count": 28,
   "id": "fitted-peter",
   "metadata": {},
   "outputs": [
    {
     "data": {
      "text/html": [
       "<div>\n",
       "<style scoped>\n",
       "    .dataframe tbody tr th:only-of-type {\n",
       "        vertical-align: middle;\n",
       "    }\n",
       "\n",
       "    .dataframe tbody tr th {\n",
       "        vertical-align: top;\n",
       "    }\n",
       "\n",
       "    .dataframe thead th {\n",
       "        text-align: right;\n",
       "    }\n",
       "</style>\n",
       "<table border=\"1\" class=\"dataframe\">\n",
       "  <thead>\n",
       "    <tr style=\"text-align: right;\">\n",
       "      <th></th>\n",
       "      <th>satisfaction_level</th>\n",
       "      <th>last_evaluation</th>\n",
       "      <th>number_project</th>\n",
       "      <th>average_montly_hours</th>\n",
       "      <th>time_spend_company</th>\n",
       "      <th>Work_accident</th>\n",
       "      <th>promotion_last_5years</th>\n",
       "      <th>salary_label</th>\n",
       "    </tr>\n",
       "  </thead>\n",
       "  <tbody>\n",
       "    <tr>\n",
       "      <th>1317</th>\n",
       "      <td>0.55</td>\n",
       "      <td>0.92</td>\n",
       "      <td>3</td>\n",
       "      <td>198</td>\n",
       "      <td>3</td>\n",
       "      <td>0</td>\n",
       "      <td>0</td>\n",
       "      <td>0.0</td>\n",
       "    </tr>\n",
       "    <tr>\n",
       "      <th>5918</th>\n",
       "      <td>0.50</td>\n",
       "      <td>0.81</td>\n",
       "      <td>3</td>\n",
       "      <td>170</td>\n",
       "      <td>2</td>\n",
       "      <td>0</td>\n",
       "      <td>0</td>\n",
       "      <td>0.0</td>\n",
       "    </tr>\n",
       "    <tr>\n",
       "      <th>10003</th>\n",
       "      <td>0.65</td>\n",
       "      <td>0.70</td>\n",
       "      <td>3</td>\n",
       "      <td>231</td>\n",
       "      <td>3</td>\n",
       "      <td>0</td>\n",
       "      <td>0</td>\n",
       "      <td>1.0</td>\n",
       "    </tr>\n",
       "    <tr>\n",
       "      <th>9011</th>\n",
       "      <td>0.63</td>\n",
       "      <td>0.93</td>\n",
       "      <td>4</td>\n",
       "      <td>238</td>\n",
       "      <td>4</td>\n",
       "      <td>0</td>\n",
       "      <td>0</td>\n",
       "      <td>1.0</td>\n",
       "    </tr>\n",
       "    <tr>\n",
       "      <th>9750</th>\n",
       "      <td>0.87</td>\n",
       "      <td>0.83</td>\n",
       "      <td>4</td>\n",
       "      <td>265</td>\n",
       "      <td>6</td>\n",
       "      <td>0</td>\n",
       "      <td>0</td>\n",
       "      <td>0.0</td>\n",
       "    </tr>\n",
       "    <tr>\n",
       "      <th>...</th>\n",
       "      <td>...</td>\n",
       "      <td>...</td>\n",
       "      <td>...</td>\n",
       "      <td>...</td>\n",
       "      <td>...</td>\n",
       "      <td>...</td>\n",
       "      <td>...</td>\n",
       "      <td>...</td>\n",
       "    </tr>\n",
       "    <tr>\n",
       "      <th>2895</th>\n",
       "      <td>0.84</td>\n",
       "      <td>0.85</td>\n",
       "      <td>4</td>\n",
       "      <td>249</td>\n",
       "      <td>6</td>\n",
       "      <td>0</td>\n",
       "      <td>0</td>\n",
       "      <td>0.0</td>\n",
       "    </tr>\n",
       "    <tr>\n",
       "      <th>7813</th>\n",
       "      <td>0.10</td>\n",
       "      <td>0.77</td>\n",
       "      <td>6</td>\n",
       "      <td>272</td>\n",
       "      <td>4</td>\n",
       "      <td>0</td>\n",
       "      <td>0</td>\n",
       "      <td>0.0</td>\n",
       "    </tr>\n",
       "    <tr>\n",
       "      <th>905</th>\n",
       "      <td>0.78</td>\n",
       "      <td>0.90</td>\n",
       "      <td>4</td>\n",
       "      <td>238</td>\n",
       "      <td>2</td>\n",
       "      <td>0</td>\n",
       "      <td>0</td>\n",
       "      <td>0.0</td>\n",
       "    </tr>\n",
       "    <tr>\n",
       "      <th>5192</th>\n",
       "      <td>0.17</td>\n",
       "      <td>0.55</td>\n",
       "      <td>4</td>\n",
       "      <td>194</td>\n",
       "      <td>3</td>\n",
       "      <td>0</td>\n",
       "      <td>0</td>\n",
       "      <td>0.0</td>\n",
       "    </tr>\n",
       "    <tr>\n",
       "      <th>235</th>\n",
       "      <td>0.90</td>\n",
       "      <td>0.87</td>\n",
       "      <td>5</td>\n",
       "      <td>219</td>\n",
       "      <td>2</td>\n",
       "      <td>0</td>\n",
       "      <td>0</td>\n",
       "      <td>1.0</td>\n",
       "    </tr>\n",
       "  </tbody>\n",
       "</table>\n",
       "<p>7874 rows × 8 columns</p>\n",
       "</div>"
      ],
      "text/plain": [
       "       satisfaction_level  last_evaluation  number_project  \\\n",
       "1317                 0.55             0.92               3   \n",
       "5918                 0.50             0.81               3   \n",
       "10003                0.65             0.70               3   \n",
       "9011                 0.63             0.93               4   \n",
       "9750                 0.87             0.83               4   \n",
       "...                   ...              ...             ...   \n",
       "2895                 0.84             0.85               4   \n",
       "7813                 0.10             0.77               6   \n",
       "905                  0.78             0.90               4   \n",
       "5192                 0.17             0.55               4   \n",
       "235                  0.90             0.87               5   \n",
       "\n",
       "       average_montly_hours  time_spend_company  Work_accident  \\\n",
       "1317                    198                   3              0   \n",
       "5918                    170                   2              0   \n",
       "10003                   231                   3              0   \n",
       "9011                    238                   4              0   \n",
       "9750                    265                   6              0   \n",
       "...                     ...                 ...            ...   \n",
       "2895                    249                   6              0   \n",
       "7813                    272                   4              0   \n",
       "905                     238                   2              0   \n",
       "5192                    194                   3              0   \n",
       "235                     219                   2              0   \n",
       "\n",
       "       promotion_last_5years  salary_label  \n",
       "1317                       0           0.0  \n",
       "5918                       0           0.0  \n",
       "10003                      0           1.0  \n",
       "9011                       0           1.0  \n",
       "9750                       0           0.0  \n",
       "...                      ...           ...  \n",
       "2895                       0           0.0  \n",
       "7813                       0           0.0  \n",
       "905                        0           0.0  \n",
       "5192                       0           0.0  \n",
       "235                        0           1.0  \n",
       "\n",
       "[7874 rows x 8 columns]"
      ]
     },
     "execution_count": 28,
     "metadata": {},
     "output_type": "execute_result"
    }
   ],
   "source": [
    "Xtrain"
   ]
  },
  {
   "cell_type": "code",
   "execution_count": 29,
   "id": "interested-definition",
   "metadata": {},
   "outputs": [
    {
     "data": {
      "text/plain": [
       "1317     0\n",
       "5918     0\n",
       "10003    0\n",
       "9011     0\n",
       "9750     1\n",
       "        ..\n",
       "2895     0\n",
       "7813     1\n",
       "905      0\n",
       "5192     0\n",
       "235      0\n",
       "Name: left, Length: 7874, dtype: int64"
      ]
     },
     "execution_count": 29,
     "metadata": {},
     "output_type": "execute_result"
    }
   ],
   "source": [
    "Ytrain"
   ]
  },
  {
   "cell_type": "code",
   "execution_count": null,
   "id": "arctic-michigan",
   "metadata": {},
   "outputs": [],
   "source": [
    "from sklearn.ensemble import RandomForestClassifier, ExtraTreesClassifier\n",
    "rfm = RandomForestClassifier(bootstrap=True)\n",
    "etc = ExtraTreesClassifier()\n",
    "rfm.fit(Xtrain, Ytrain)\n",
    "etc.fit(Xtrain, Ytrain)\n",
    "y_predrfm = rfm.predict(Xval)\n",
    "y_predetc = etc.predict(Xval)"
   ]
  },
  {
   "cell_type": "code",
   "execution_count": 13,
   "id": "radical-atlas",
   "metadata": {},
   "outputs": [
    {
     "ename": "ModuleNotFoundError",
     "evalue": "No module named 'sklearn'",
     "output_type": "error",
     "traceback": [
      "\u001b[1;31m---------------------------------------------------------------------------\u001b[0m",
      "\u001b[1;31mModuleNotFoundError\u001b[0m                       Traceback (most recent call last)",
      "\u001b[1;32m<ipython-input-13-7f5874a8c91a>\u001b[0m in \u001b[0;36m<module>\u001b[1;34m\u001b[0m\n\u001b[1;32m----> 1\u001b[1;33m \u001b[1;32mfrom\u001b[0m \u001b[0msklearn\u001b[0m\u001b[1;33m.\u001b[0m\u001b[0mmetrics\u001b[0m \u001b[1;32mimport\u001b[0m \u001b[0mconfusion_matrix\u001b[0m\u001b[1;33m\u001b[0m\u001b[1;33m\u001b[0m\u001b[0m\n\u001b[0m\u001b[0;32m      2\u001b[0m \u001b[0mconfusion_matrix\u001b[0m\u001b[1;33m(\u001b[0m\u001b[0mYval\u001b[0m\u001b[1;33m,\u001b[0m \u001b[0my_predrfm\u001b[0m\u001b[1;33m)\u001b[0m\u001b[1;33m\u001b[0m\u001b[1;33m\u001b[0m\u001b[0m\n",
      "\u001b[1;31mModuleNotFoundError\u001b[0m: No module named 'sklearn'"
     ]
    }
   ],
   "source": [
    "from sklearn.metrics import confusion_matrix\n",
    "confusion_matrix(Yval, y_predrfm)"
   ]
  },
  {
   "cell_type": "code",
   "execution_count": 23,
   "id": "given-psychiatry",
   "metadata": {},
   "outputs": [
    {
     "data": {
      "text/plain": [
       "array([[1779,   77],\n",
       "       [ 282,  487]], dtype=int64)"
      ]
     },
     "execution_count": 23,
     "metadata": {},
     "output_type": "execute_result"
    }
   ],
   "source": [
    "confusion_matrix(Yval, y_predetc)"
   ]
  },
  {
   "cell_type": "code",
   "execution_count": 28,
   "id": "perceived-characteristic",
   "metadata": {},
   "outputs": [
    {
     "name": "stdout",
     "output_type": "stream",
     "text": [
      "0.8717948717948718\n",
      "0.6631989596879063\n",
      "0.7533234859675036\n"
     ]
    }
   ],
   "source": [
    "from sklearn.metrics import precision_score, recall_score, f1_score\n",
    "print(precision_score(Yval, y_predrfm))\n",
    "print(recall_score(Yval, y_predrfm))\n",
    "print(f1_score(Yval, y_predrfm))"
   ]
  },
  {
   "cell_type": "code",
   "execution_count": 29,
   "id": "operational-rates",
   "metadata": {},
   "outputs": [
    {
     "name": "stdout",
     "output_type": "stream",
     "text": [
      "0.8634751773049646\n",
      "0.6332899869960988\n",
      "0.730682670667667\n"
     ]
    }
   ],
   "source": [
    "from sklearn.metrics import precision_score, recall_score, f1_score\n",
    "print(precision_score(Yval, y_predetc))\n",
    "print(recall_score(Yval, y_predetc))\n",
    "print(f1_score(Yval, y_predetc))"
   ]
  },
  {
   "cell_type": "code",
   "execution_count": 30,
   "id": "paperback-punch",
   "metadata": {},
   "outputs": [
    {
     "data": {
      "text/plain": [
       "array([0, 0, 0, ..., 1, 0, 0], dtype=int64)"
      ]
     },
     "execution_count": 30,
     "metadata": {},
     "output_type": "execute_result"
    }
   ],
   "source": [
    "y_predrfm"
   ]
  },
  {
   "cell_type": "code",
   "execution_count": 35,
   "id": "nervous-little",
   "metadata": {},
   "outputs": [],
   "source": [
    "import pickle\n",
    "pickle.dump(rfm, open(\"HumanResourcesmodel.pickle\", 'wb'))"
   ]
  },
  {
   "cell_type": "code",
   "execution_count": null,
   "id": "silver-sending",
   "metadata": {},
   "outputs": [],
   "source": []
  }
 ],
 "metadata": {
  "kernelspec": {
   "display_name": "Python 3",
   "language": "python",
   "name": "python3"
  },
  "language_info": {
   "codemirror_mode": {
    "name": "ipython",
    "version": 3
   },
   "file_extension": ".py",
   "mimetype": "text/x-python",
   "name": "python",
   "nbconvert_exporter": "python",
   "pygments_lexer": "ipython3",
   "version": "3.8.5"
  }
 },
 "nbformat": 4,
 "nbformat_minor": 5
}
